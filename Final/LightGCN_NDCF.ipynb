{
  "cells": [
    {
      "cell_type": "markdown",
      "metadata": {},
      "source": [
        "*Copyright (c) Cornac Authors. All rights reserved.*\n",
        "\n",
        "*Licensed under the Apache 2.0 License.*\n",
        "\n",
        "# Visual Bayesian Personalized Ranking with Text Data"
      ]
    },
    {
      "cell_type": "markdown",
      "metadata": {},
      "source": [
        "<table class=\"tfo-notebook-buttons\" align=\"left\">\n",
        "  <td>\n",
        "    <a target=\"_blank\" href=\"https://colab.research.google.com/github/PreferredAI/cornac/blob/master/tutorials/vbpr_text.ipynb\"><img src=\"https://www.tensorflow.org/images/colab_logo_32px.png\" />Run in Google Colab</a>\n",
        "  </td>\n",
        "  <td>\n",
        "    <a target=\"_blank\" href=\"https://github.com/PreferredAI/cornac/blob/master/tutorials/vbpr_text.ipynb\"><img src=\"https://www.tensorflow.org/images/GitHub-Mark-32px.png\" />View source on GitHub</a>\n",
        "  </td>\n",
        "</table>"
      ]
    },
    {
      "cell_type": "markdown",
      "metadata": {},
      "source": [
        "## Overview\n",
        "\n",
        "We would like to use [Visual Bayesian Personalizer Ranking (VBPR)](https://arxiv.org/pdf/1510.01784.pdf), the model makes use of pre-trained visual features extracted from CNN. However, our data of interest [MovieLens dataset](https://grouplens.org/datasets/movielens/) does not come with visual information, but instead it contains text movie plots. In this tutorial, we will employ Conac's modality infrastructures to easily utilize VBPR to leverage item text content.\n",
        "\n",
        "## Setup"
      ]
    },
    {
      "cell_type": "code",
      "execution_count": 1,
      "metadata": {},
      "outputs": [],
      "source": [
        "# install Cornac and PyTorch (VBPR model implementation uses PyTorch)\n",
        "!pip3 install cornac torch>=0.4.1"
      ]
    },
    {
      "cell_type": "code",
      "execution_count": 2,
      "metadata": {},
      "outputs": [
        {
          "name": "stderr",
          "output_type": "stream",
          "text": [
            "c:\\Users\\bhask\\anaconda3\\envs\\tensorflowgpu\\lib\\site-packages\\tqdm\\auto.py:21: TqdmWarning: IProgress not found. Please update jupyter and ipywidgets. See https://ipywidgets.readthedocs.io/en/stable/user_install.html\n",
            "  from .autonotebook import tqdm as notebook_tqdm\n"
          ]
        },
        {
          "name": "stdout",
          "output_type": "stream",
          "text": [
            "Cornac version: 2.1\n"
          ]
        }
      ],
      "source": [
        "import cornac\n",
        "from cornac.data import Reader\n",
        "from cornac.datasets import movielens\n",
        "from cornac.eval_methods import RatioSplit\n",
        "from cornac.data import TextModality, ImageModality\n",
        "from cornac.data.text import BaseTokenizer\n",
        "\n",
        "print(\"Cornac version: {}\".format(cornac.__version__))"
      ]
    },
    {
      "cell_type": "markdown",
      "metadata": {},
      "source": [
        "## Prepare data\n",
        "Here we use the MovieLens 100K dataset which is already accessible from Cornac. Hence, we can simply load movie plots and the rating data."
      ]
    },
    {
      "cell_type": "code",
      "execution_count": 3,
      "metadata": {},
      "outputs": [],
      "source": [
        "plots, movie_ids = movielens.load_plot()\n",
        "\n",
        "# movies without plots are filtered out by `cornac.data.Reader`\n",
        "ml_100k = movielens.load_feedback(reader=Reader(item_set=movie_ids))"
      ]
    },
    {
      "cell_type": "markdown",
      "metadata": {},
      "source": [
        "## Cross modality\n",
        "\n",
        "To get vector representations from text data, we build a `TextModality` using our corpus and corresponding ids. We also need to supply a `Tokenizer` for text splitting, in this case tokens are seperated by `\\tab` character. We limit the maximum size of vocabulary to 5000, which also means the dimension of our vector space cannot go higher."
      ]
    },
    {
      "cell_type": "code",
      "execution_count": 4,
      "metadata": {},
      "outputs": [],
      "source": [
        "item_text_modality = TextModality(corpus=plots, ids=movie_ids,\n",
        "                                  tokenizer=BaseTokenizer(sep='\\t', stop_words='english'),\n",
        "                                  max_vocab=5000, max_doc_freq=0.5).build()"
      ]
    },
    {
      "cell_type": "markdown",
      "metadata": {},
      "source": [
        "Next step is to create an `ImageModality`, which is use by VBPR, using our text representations. In this case, we take the word-count matrix to substitute for visual features."
      ]
    },
    {
      "cell_type": "code",
      "execution_count": 5,
      "metadata": {},
      "outputs": [],
      "source": [
        "features = item_text_modality.count_matrix.A\n",
        "item_image_modality = ImageModality(features=features, ids=movie_ids)"
      ]
    },
    {
      "cell_type": "markdown",
      "metadata": {},
      "source": [
        "In Cornac, every model relies on the modality for which it was designed for (i.e., visual recommendation algorithms always work with `ImageModality`). This ensures consistency with models' original assumptions, and helps us avoid confusions regarding which modality to use when integrating a new recommender model.\n",
        "\n",
        "## Experiment\n",
        "\n",
        "We employ the `RatioSplit` evaluation method to split the rating data. The `item_image_modality` is also supplied here for later usage by the model."
      ]
    },
    {
      "cell_type": "code",
      "execution_count": 6,
      "metadata": {},
      "outputs": [
        {
          "name": "stdout",
          "output_type": "stream",
          "text": [
            "rating_threshold = 1.0\n",
            "exclude_unknowns = True\n",
            "---\n",
            "Training data:\n",
            "Number of users = 926\n",
            "Number of items = 1162\n",
            "Number of ratings = 9480\n",
            "Max rating = 5.0\n",
            "Min rating = 1.0\n",
            "Global mean = 3.5\n",
            "---\n",
            "Test data:\n",
            "Number of users = 926\n",
            "Number of items = 1162\n",
            "Number of ratings = 82993\n",
            "Number of unknown users = 0\n",
            "Number of unknown items = 0\n",
            "---\n",
            "Total users = 926\n",
            "Total items = 1162\n"
          ]
        }
      ],
      "source": [
        "ratio_split = RatioSplit(data=ml_100k, test_size=0.9,\n",
        "                         item_image=item_image_modality,\n",
        "                         exclude_unknowns=True,\n",
        "                         verbose=True, seed=123)"
      ]
    },
    {
      "cell_type": "markdown",
      "metadata": {},
      "source": [
        "We are now ready to evaluate performance of VBPR. The [BPR](https://arxiv.org/ftp/arxiv/papers/1205/1205.2618.pdf) model is also included as a baseline to examine the effectiveness of the text auxiliary data."
      ]
    },
    {
      "cell_type": "code",
      "execution_count": 7,
      "metadata": {},
      "outputs": [],
      "source": [
        "# vbpr = cornac.models.VBPR(k=10, k2=10, n_epochs=20, batch_size=10, learning_rate=0.001,\n",
        "#                           lambda_w=1.0, lambda_b=0.0, lambda_e=100.0, use_gpu=True, seed=123)\n",
        "\n",
        "# bpr = cornac.models.BPR(k=10, max_iter=100, learning_rate=0.001, lambda_reg=0.001, seed=123)"
      ]
    },
    {
      "cell_type": "code",
      "execution_count": 8,
      "metadata": {},
      "outputs": [],
      "source": [
        "lightGCN=cornac.models.LightGCN()\n",
        "ngcf=cornac.models.NGCF()"
      ]
    },
    {
      "cell_type": "code",
      "execution_count": 9,
      "metadata": {},
      "outputs": [],
      "source": [
        "# NDCG = cornac.metrics.NDCG(k=7)\n",
        "# MAE = cornac.metrics.MAE()\n",
        "# MSE = cornac.metrics.MSE()\n",
        "# RMSE = cornac.metrics.RMSE()\n",
        "# FMeasure = cornac.metrics.FMeasure(k=7)\n",
        "# map_e = cornac.metrics.MAP()\n",
        "# auc = cornac.metrics.AUC()\n",
        "# rec_20 = cornac.metrics.Recall(k=20)\n",
        "\n",
        "NDCG = cornac.metrics.NDCG()\n",
        "NDCG_3 = cornac.metrics.NDCG(k=3)\n",
        "NDCG_4 = cornac.metrics.NDCG(k=4)\n",
        "NDCG_5 = cornac.metrics.NDCG(k=5)\n",
        "NDCG_6 = cornac.metrics.NDCG(k=6)\n",
        "NDCG_7 = cornac.metrics.NDCG(k=7)\n",
        "NDCG_8 = cornac.metrics.NDCG(k=8)\n",
        "NDCG_9 = cornac.metrics.NDCG(k=9)\n",
        "NDCG_10 = cornac.metrics.NDCG(k=10)\n",
        "NDCG_11 = cornac.metrics.NDCG(k=11)\n",
        "NDCG_12 = cornac.metrics.NDCG(k=12)\n",
        "NDCG_13 = cornac.metrics.NDCG(k=13)\n",
        "NDCG_14 = cornac.metrics.NDCG(k=14)\n",
        "NDCG_15 = cornac.metrics.NDCG(k=15)\n",
        "NDCG_16 = cornac.metrics.NDCG(k=16)\n",
        "NDCG_17 = cornac.metrics.NDCG(k=17)\n",
        "NDCG_18 = cornac.metrics.NDCG(k=18)\n",
        "NDCG_19 = cornac.metrics.NDCG(k=19)\n",
        "NDCG_20 = cornac.metrics.NDCG(k=20)\n",
        "\n",
        "MRR = cornac.metrics.MRR()\n",
        "MRR_3 = cornac.metrics.MRR(k=3)\n",
        "MRR_4 = cornac.metrics.MRR(k=4)\n",
        "MRR_5 = cornac.metrics.MRR(k=5)\n",
        "MRR_6 = cornac.metrics.MRR(k=6)\n",
        "MRR_7 = cornac.metrics.MRR(k=7)\n",
        "MRR_8 = cornac.metrics.MRR(k=8)\n",
        "MRR_9 = cornac.metrics.MRR(k=9)\n",
        "MRR_10 = cornac.metrics.MRR(k=10)\n",
        "MRR_11 = cornac.metrics.MRR(k=11)\n",
        "MRR_12 = cornac.metrics.MRR(k=12)\n",
        "MRR_13 = cornac.metrics.MRR(k=13)\n",
        "MRR_14 = cornac.metrics.MRR(k=14)\n",
        "MRR_15 = cornac.metrics.MRR(k=15)\n",
        "MRR_16 = cornac.metrics.MRR(k=16)\n",
        "MRR_17 = cornac.metrics.MRR(k=17)\n",
        "MRR_18 = cornac.metrics.MRR(k=18)\n",
        "MRR_19 = cornac.metrics.MRR(k=19)\n",
        "MRR_20 = cornac.metrics.MRR(k=20)\n",
        "\n",
        "MAE = cornac.metrics.MAE()\n",
        "MAE_3 = cornac.metrics.MAE(k=3)\n",
        "MAE_4 = cornac.metrics.MAE(k=4)\n",
        "MAE_5 = cornac.metrics.MAE(k=5)\n",
        "MAE_6 = cornac.metrics.MAE(k=6)\n",
        "MAE_7 = cornac.metrics.MAE(k=7)\n",
        "MAE_8 = cornac.metrics.MAE(k=8)\n",
        "MAE_9 = cornac.metrics.MAE(k=9)\n",
        "MAE_10 = cornac.metrics.MAE(k=10)\n",
        "MAE_11 = cornac.metrics.MAE(k=11)\n",
        "MAE_12 = cornac.metrics.MAE(k=12)\n",
        "MAE_13 = cornac.metrics.MAE(k=13)\n",
        "MAE_14 = cornac.metrics.MAE(k=14)\n",
        "MAE_15 = cornac.metrics.MAE(k=15)\n",
        "MAE_16 = cornac.metrics.MAE(k=16)\n",
        "MAE_17 = cornac.metrics.MAE(k=17)\n",
        "MAE_18 = cornac.metrics.MAE(k=18)\n",
        "MAE_19 = cornac.metrics.MAE(k=19)\n",
        "MAE_20 = cornac.metrics.MAE(k=20)\n",
        "\n",
        "MSE = cornac.metrics.MSE()\n",
        "MSE_3 = cornac.metrics.MSE(k=3)\n",
        "MSE_4 = cornac.metrics.MSE(k=4)\n",
        "MSE_5 = cornac.metrics.MSE(k=5)\n",
        "MSE_6 = cornac.metrics.MSE(k=6)\n",
        "MSE_7 = cornac.metrics.MSE(k=7)\n",
        "MSE_8 = cornac.metrics.MSE(k=8)\n",
        "MSE_9 = cornac.metrics.MSE(k=9)\n",
        "MSE_10 = cornac.metrics.MSE(k=10)\n",
        "MSE_11 = cornac.metrics.MSE(k=11)\n",
        "MSE_12 = cornac.metrics.MSE(k=12)\n",
        "MSE_13 = cornac.metrics.MSE(k=13)\n",
        "MSE_14 = cornac.metrics.MSE(k=14)\n",
        "MSE_15 = cornac.metrics.MSE(k=15)\n",
        "MSE_16 = cornac.metrics.MSE(k=16)\n",
        "MSE_17 = cornac.metrics.MSE(k=17)\n",
        "MSE_18 = cornac.metrics.MSE(k=18)\n",
        "MSE_19 = cornac.metrics.MSE(k=19)\n",
        "MSE_20 = cornac.metrics.MSE(k=20)\n",
        "\n",
        "RMSE = cornac.metrics.RMSE()\n",
        "RMSE_3 = cornac.metrics.RMSE(k=3)\n",
        "RMSE_4 = cornac.metrics.RMSE(k=4)\n",
        "RMSE_5 = cornac.metrics.RMSE(k=5)\n",
        "RMSE_6 = cornac.metrics.RMSE(k=6)\n",
        "RMSE_7 = cornac.metrics.RMSE(k=7)\n",
        "RMSE_8 = cornac.metrics.RMSE(k=8)\n",
        "RMSE_9 = cornac.metrics.RMSE(k=9)\n",
        "RMSE_10 = cornac.metrics.RMSE(k=10)\n",
        "RMSE_11 = cornac.metrics.RMSE(k=11)\n",
        "RMSE_12 = cornac.metrics.RMSE(k=12)\n",
        "RMSE_13 = cornac.metrics.RMSE(k=13)\n",
        "RMSE_14 = cornac.metrics.RMSE(k=14)\n",
        "RMSE_15 = cornac.metrics.RMSE(k=15)\n",
        "RMSE_16 = cornac.metrics.RMSE(k=16)\n",
        "RMSE_17 = cornac.metrics.RMSE(k=17)\n",
        "RMSE_18 = cornac.metrics.RMSE(k=18)\n",
        "RMSE_19 = cornac.metrics.RMSE(k=19)\n",
        "RMSE_20 = cornac.metrics.RMSE(k=20)\n",
        "\n",
        "R2 = cornac.metrics.R2()\n",
        "R2_3 = cornac.metrics.R2(k=3)\n",
        "R2_4 = cornac.metrics.R2(k=4)\n",
        "R2_5 = cornac.metrics.R2(k=5)\n",
        "R2_6 = cornac.metrics.R2(k=6)\n",
        "R2_7 = cornac.metrics.R2(k=7)\n",
        "R2_8 = cornac.metrics.R2(k=8)\n",
        "R2_9 = cornac.metrics.R2(k=9)\n",
        "R2_10 = cornac.metrics.R2(k=10)\n",
        "R2_11 = cornac.metrics.R2(k=11)\n",
        "R2_12 = cornac.metrics.R2(k=12)\n",
        "R2_13 = cornac.metrics.R2(k=13)\n",
        "R2_14 = cornac.metrics.R2(k=14)\n",
        "R2_15 = cornac.metrics.R2(k=15)\n",
        "R2_16 = cornac.metrics.R2(k=16)\n",
        "R2_17 = cornac.metrics.R2(k=17)\n",
        "R2_18 = cornac.metrics.R2(k=18)\n",
        "R2_19 = cornac.metrics.R2(k=19)\n",
        "R2_20 = cornac.metrics.R2(k=20)\n",
        "\n",
        "FCP = cornac.metrics.FCP()\n",
        "FCP_3 = cornac.metrics.FCP(k=3)\n",
        "FCP_4 = cornac.metrics.FCP(k=4)\n",
        "FCP_5 = cornac.metrics.FCP(k=5)\n",
        "FCP_6 = cornac.metrics.FCP(k=6)\n",
        "FCP_7 = cornac.metrics.FCP(k=7)\n",
        "FCP_8 = cornac.metrics.FCP(k=8)\n",
        "FCP_9 = cornac.metrics.FCP(k=9)\n",
        "FCP_10 = cornac.metrics.FCP(k=10)\n",
        "FCP_11 = cornac.metrics.FCP(k=11)\n",
        "FCP_12 = cornac.metrics.FCP(k=12)\n",
        "FCP_13 = cornac.metrics.FCP(k=13)\n",
        "FCP_14 = cornac.metrics.FCP(k=14)\n",
        "FCP_15 = cornac.metrics.FCP(k=15)\n",
        "FCP_16 = cornac.metrics.FCP(k=16)\n",
        "FCP_17 = cornac.metrics.FCP(k=17)\n",
        "FCP_18 = cornac.metrics.FCP(k=18)\n",
        "FCP_19 = cornac.metrics.FCP(k=19)\n",
        "FCP_20 = cornac.metrics.FCP(k=20)\n",
        "# FMeasure = cornac.metrics.FMeasure()\n",
        "# FMeasure = cornac.metrics.FMeasure(k=7)\n",
        "# map_e = cornac.metrics.MAP()\n",
        "# auc = cornac.metrics.AUC()\n",
        "# rec_20 = cornac.metrics.Recall(k=20)\n"
      ]
    },
    {
      "cell_type": "code",
      "execution_count": 10,
      "metadata": {},
      "outputs": [
        {
          "name": "stdout",
          "output_type": "stream",
          "text": [
            "\n",
            "[LightGCN] Training started!\n"
          ]
        },
        {
          "name": "stdout",
          "output_type": "stream",
          "text": [
            "\n",
            "[LightGCN] Evaluation started!\n"
          ]
        },
        {
          "name": "stderr",
          "output_type": "stream",
          "text": [
            "Rating: 100%|██████████| 82993/82993 [00:01<00:00, 82680.06it/s]\n",
            "Ranking: 100%|██████████| 926/926 [00:03<00:00, 280.83it/s]"
          ]
        },
        {
          "name": "stdout",
          "output_type": "stream",
          "text": [
            "\n",
            "TEST:\n",
            "...\n",
            "         | FCP@-1 | FCP@10 | FCP@11 | FCP@12 | FCP@13 | FCP@14 | FCP@15 | FCP@16 | FCP@17 | FCP@18 | FCP@19 | FCP@20 |  FCP@3 |  FCP@4 |  FCP@5 |  FCP@6 |  FCP@7 |  FCP@8 |  FCP@9 | MAE@-1 | MAE@10 | MAE@11 | MAE@12 | MAE@13 | MAE@14 | MAE@15 | MAE@16 | MAE@17 | MAE@18 | MAE@19 | MAE@20 |  MAE@3 |  MAE@4 |  MAE@5 |  MAE@6 |  MAE@7 |  MAE@8 |  MAE@9 | MSE@-1 | MSE@10 | MSE@11 | MSE@12 | MSE@13 | MSE@14 | MSE@15 | MSE@16 | MSE@17 | MSE@18 | MSE@19 | MSE@20 |  MSE@3 |  MSE@4 |  MSE@5 |  MSE@6 |  MSE@7 |  MSE@8 |  MSE@9 |   R2@-1 |   R2@10 |   R2@11 |   R2@12 |   R2@13 |   R2@14 |   R2@15 |   R2@16 |   R2@17 |   R2@18 |   R2@19 |   R2@20 |     R2@3 |    R2@4 |    R2@5 |    R2@6 |    R2@7 |    R2@8 |    R2@9 | RMSE@-1 | RMSE@10 | RMSE@11 | RMSE@12 | RMSE@13 | RMSE@14 | RMSE@15 | RMSE@16 | RMSE@17 | RMSE@18 | RMSE@19 | RMSE@20 | RMSE@3 | RMSE@4 | RMSE@5 | RMSE@6 | RMSE@7 | RMSE@8 | RMSE@9 | MRR@-1 | MRR@10 | MRR@11 | MRR@12 | MRR@13 | MRR@14 | MRR@15 | MRR@16 | MRR@17 | MRR@18 | MRR@19 | MRR@20 |  MRR@3 |  MRR@4 |  MRR@5 |  MRR@6 |  MRR@7 |  MRR@8 |  MRR@9 | NDCG@-1 | NDCG@10 | NDCG@11 | NDCG@12 | NDCG@13 | NDCG@14 | NDCG@15 | NDCG@16 | NDCG@17 | NDCG@18 | NDCG@19 | NDCG@20 | NDCG@3 | NDCG@4 | NDCG@5 | NDCG@6 | NDCG@7 | NDCG@8 | NDCG@9 | Train (s) | Test (s)\n",
            "-------- + ------ + ------ + ------ + ------ + ------ + ------ + ------ + ------ + ------ + ------ + ------ + ------ + ------ + ------ + ------ + ------ + ------ + ------ + ------ + ------ + ------ + ------ + ------ + ------ + ------ + ------ + ------ + ------ + ------ + ------ + ------ + ------ + ------ + ------ + ------ + ------ + ------ + ------ + ------ + ------ + ------ + ------ + ------ + ------ + ------ + ------ + ------ + ------ + ------ + ------ + ------ + ------ + ------ + ------ + ------ + ------ + ------ + ------- + ------- + ------- + ------- + ------- + ------- + ------- + ------- + ------- + ------- + ------- + ------- + -------- + ------- + ------- + ------- + ------- + ------- + ------- + ------- + ------- + ------- + ------- + ------- + ------- + ------- + ------- + ------- + ------- + ------- + ------- + ------ + ------ + ------ + ------ + ------ + ------ + ------ + ------ + ------ + ------ + ------ + ------ + ------ + ------ + ------ + ------ + ------ + ------ + ------ + ------ + ------ + ------ + ------ + ------ + ------ + ------ + ------- + ------- + ------- + ------- + ------- + ------- + ------- + ------- + ------- + ------- + ------- + ------- + ------ + ------ + ------ + ------ + ------ + ------ + ------ + --------- + --------\n",
            "LightGCN | 0.1635 | 0.1584 | 0.1580 | 0.1581 | 0.1580 | 0.1580 | 0.1584 | 0.1577 | 0.1578 | 0.1574 | 0.1576 | 0.1574 | 0.1578 | 0.1566 | 0.1567 | 0.1559 | 0.1554 | 0.1582 | 0.1584 | 1.7793 | 1.7648 | 1.7600 | 1.7574 | 1.7535 | 1.7535 | 1.7525 | 1.7563 | 1.7544 | 1.7549 | 1.7518 | 1.7520 | 1.7803 | 1.7887 | 1.7852 | 1.7771 | 1.7661 | 1.7655 | 1.7648 | 4.5312 | 4.5014 | 4.4766 | 4.4728 | 4.4600 | 4.4600 | 4.4536 | 4.4718 | 4.4609 | 4.4621 | 4.4534 | 4.4525 | 4.5443 | 4.5917 | 4.5838 | 4.5487 | 4.5041 | 4.5037 | 4.5071 | -4.3049 | -6.9437 | -6.7102 | -6.2943 | -6.0783 | -5.8594 | -5.6323 | -5.5693 | -5.4593 | -5.4194 | -5.2628 | -5.1773 | -10.2252 | -9.9994 | -9.4481 | -8.7616 | -8.2888 | -7.6714 | -7.2804 |  2.0865 |  2.0563 |  2.0526 |  2.0538 |  2.0525 |  2.0546 |  2.0546 |  2.0595 |  2.0579 |  2.0589 |  2.0573 |  2.0579 | 1.9996 | 2.0368 | 2.0480 | 2.0496 | 2.0465 | 2.0508 | 2.0555 | 0.6378 | 0.6378 | 0.6378 | 0.6378 | 0.6378 | 0.6378 | 0.6378 | 0.6378 | 0.6378 | 0.6378 | 0.6378 | 0.6378 | 0.6378 | 0.6378 | 0.6378 | 0.6378 | 0.6378 | 0.6378 | 0.6378 |  0.6585 |  0.4089 |  0.4045 |  0.4008 |  0.3978 |  0.3945 |  0.3915 |  0.3889 |  0.3864 |  0.3847 |  0.3824 |  0.3812 | 0.4475 | 0.4358 | 0.4304 | 0.4278 | 0.4214 | 0.4187 | 0.4153 |  492.3483 |  13.6199\n",
            "\n"
          ]
        },
        {
          "name": "stderr",
          "output_type": "stream",
          "text": [
            "\n"
          ]
        }
      ],
      "source": [
        "cornac.Experiment(eval_method=ratio_split,\n",
        "                  models=[lightGCN],\n",
        "                  metrics=[NDCG, NDCG_3, NDCG_4, NDCG_5, NDCG_6, NDCG_7, NDCG_8, NDCG_9, NDCG_10, NDCG_11, NDCG_12, NDCG_13, NDCG_14, NDCG_15, NDCG_16, NDCG_17, NDCG_18, NDCG_19, NDCG_20, MAE,MAE_3, MAE_4, MAE_5, MAE_6, MAE_7, MAE_8, MAE_9, MAE_10, MAE_11, MAE_12, MAE_13, MAE_14, MAE_15, MAE_16, MAE_17, MAE_18, MAE_19, MAE_20, MSE, MSE_3, MSE_4, MSE_5, MSE_6, MSE_7, MSE_8, MSE_9, MSE_10, MSE_11, MSE_12, MSE_13, MSE_14, MSE_15, MSE_16, MSE_17, MSE_18, MSE_19, MSE_20, RMSE, RMSE_3, RMSE_4, RMSE_5, RMSE_6, RMSE_7, RMSE_8, RMSE_9, RMSE_10, RMSE_11, RMSE_12, RMSE_13, RMSE_14, RMSE_15, RMSE_16, RMSE_17, RMSE_18, RMSE_19, RMSE_20, R2, R2_3, R2_4, R2_5, R2_6, R2_7, R2_8, R2_9, R2_10, R2_11, R2_12, R2_13, R2_14, R2_15, R2_16, R2_17, R2_18, R2_19, R2_20, MRR, MRR_3, MRR_4, MRR_5, MRR_6, MRR_7, MRR_8, MRR_9, MRR_10, MRR_11, MRR_12, MRR_13, MRR_14, MRR_15, MRR_16, MRR_17, MRR_18, MRR_19, MRR_20, FCP, FCP_3, FCP_4, FCP_5, FCP_6, FCP_7, FCP_8, FCP_9, FCP_10, FCP_11, FCP_12, FCP_13, FCP_14, FCP_15, FCP_16, FCP_17, FCP_18, FCP_19, FCP_20],\n",
        "                  ).run()"
      ]
    },
    {
      "cell_type": "code",
      "execution_count": 11,
      "metadata": {},
      "outputs": [
        {
          "name": "stdout",
          "output_type": "stream",
          "text": [
            "\n",
            "[NGCF] Training started!\n",
            "\n",
            "[NGCF] Evaluation started!\n"
          ]
        },
        {
          "name": "stderr",
          "output_type": "stream",
          "text": [
            "Rating: 100%|██████████| 82993/82993 [00:01<00:00, 82345.22it/s]\n",
            "Ranking: 100%|██████████| 926/926 [00:03<00:00, 275.74it/s]"
          ]
        },
        {
          "name": "stdout",
          "output_type": "stream",
          "text": [
            "\n",
            "TEST:\n",
            "...\n",
            "     | FCP@-1 | FCP@10 | FCP@11 | FCP@12 | FCP@13 | FCP@14 | FCP@15 | FCP@16 | FCP@17 | FCP@18 | FCP@19 | FCP@20 |  FCP@3 |  FCP@4 |  FCP@5 |  FCP@6 |  FCP@7 |  FCP@8 |  FCP@9 | MAE@-1 | MAE@10 | MAE@11 | MAE@12 | MAE@13 | MAE@14 | MAE@15 | MAE@16 | MAE@17 | MAE@18 | MAE@19 | MAE@20 |  MAE@3 |  MAE@4 |  MAE@5 |  MAE@6 |  MAE@7 |  MAE@8 |  MAE@9 | MSE@-1 | MSE@10 | MSE@11 | MSE@12 | MSE@13 | MSE@14 | MSE@15 | MSE@16 | MSE@17 | MSE@18 | MSE@19 | MSE@20 |  MSE@3 |  MSE@4 |  MSE@5 |  MSE@6 |  MSE@7 |  MSE@8 |  MSE@9 |   R2@-1 |    R2@10 |   R2@11 |   R2@12 |   R2@13 |   R2@14 |   R2@15 |   R2@16 |   R2@17 |   R2@18 |   R2@19 |   R2@20 |     R2@3 |     R2@4 |     R2@5 |     R2@6 |     R2@7 |     R2@8 |     R2@9 | RMSE@-1 | RMSE@10 | RMSE@11 | RMSE@12 | RMSE@13 | RMSE@14 | RMSE@15 | RMSE@16 | RMSE@17 | RMSE@18 | RMSE@19 | RMSE@20 | RMSE@3 | RMSE@4 | RMSE@5 | RMSE@6 | RMSE@7 | RMSE@8 | RMSE@9 | MRR@-1 | MRR@10 | MRR@11 | MRR@12 | MRR@13 | MRR@14 | MRR@15 | MRR@16 | MRR@17 | MRR@18 | MRR@19 | MRR@20 |  MRR@3 |  MRR@4 |  MRR@5 |  MRR@6 |  MRR@7 |  MRR@8 |  MRR@9 | NDCG@-1 | NDCG@10 | NDCG@11 | NDCG@12 | NDCG@13 | NDCG@14 | NDCG@15 | NDCG@16 | NDCG@17 | NDCG@18 | NDCG@19 | NDCG@20 | NDCG@3 | NDCG@4 | NDCG@5 | NDCG@6 | NDCG@7 | NDCG@8 | NDCG@9 | Train (s) | Test (s)\n",
            "---- + ------ + ------ + ------ + ------ + ------ + ------ + ------ + ------ + ------ + ------ + ------ + ------ + ------ + ------ + ------ + ------ + ------ + ------ + ------ + ------ + ------ + ------ + ------ + ------ + ------ + ------ + ------ + ------ + ------ + ------ + ------ + ------ + ------ + ------ + ------ + ------ + ------ + ------ + ------ + ------ + ------ + ------ + ------ + ------ + ------ + ------ + ------ + ------ + ------ + ------ + ------ + ------ + ------ + ------ + ------ + ------ + ------ + ------- + -------- + ------- + ------- + ------- + ------- + ------- + ------- + ------- + ------- + ------- + ------- + -------- + -------- + -------- + -------- + -------- + -------- + -------- + ------- + ------- + ------- + ------- + ------- + ------- + ------- + ------- + ------- + ------- + ------- + ------- + ------ + ------ + ------ + ------ + ------ + ------ + ------ + ------ + ------ + ------ + ------ + ------ + ------ + ------ + ------ + ------ + ------ + ------ + ------ + ------ + ------ + ------ + ------ + ------ + ------ + ------ + ------- + ------- + ------- + ------- + ------- + ------- + ------- + ------- + ------- + ------- + ------- + ------- + ------ + ------ + ------ + ------ + ------ + ------ + ------ + --------- + --------\n",
            "NGCF | 0.1304 | 0.1345 | 0.1347 | 0.1344 | 0.1343 | 0.1341 | 0.1341 | 0.1337 | 0.1336 | 0.1338 | 0.1339 | 0.1337 | 0.1290 | 0.1321 | 0.1332 | 0.1333 | 0.1329 | 0.1334 | 0.1340 | 2.1222 | 2.1729 | 2.1682 | 2.1682 | 2.1638 | 2.1666 | 2.1659 | 2.1651 | 2.1625 | 2.1622 | 2.1586 | 2.1559 | 2.2134 | 2.1980 | 2.1927 | 2.1877 | 2.1755 | 2.1742 | 2.1761 | 5.9076 | 6.1555 | 6.1265 | 6.1264 | 6.1112 | 6.1148 | 6.1114 | 6.1074 | 6.0981 | 6.0972 | 6.0845 | 6.0739 | 6.3723 | 6.2955 | 6.2726 | 6.2358 | 6.1775 | 6.1666 | 6.1737 | -5.9082 | -10.1883 | -9.9384 | -9.3452 | -9.0282 | -8.7162 | -8.4018 | -8.1944 | -8.0830 | -7.9960 | -7.7919 | -7.6811 | -15.1332 | -14.7231 | -14.0913 | -13.0713 | -12.2703 | -11.1794 | -10.6625 |  2.4004 |  2.4342 |  2.4305 |  2.4326 |  2.4304 |  2.4327 |  2.4330 |  2.4333 |  2.4320 |  2.4323 |  2.4304 |  2.4286 | 2.4198 | 2.4287 | 2.4354 | 2.4367 | 2.4293 | 2.4315 | 2.4358 | 0.5631 | 0.5631 | 0.5631 | 0.5631 | 0.5631 | 0.5631 | 0.5631 | 0.5631 | 0.5631 | 0.5631 | 0.5631 | 0.5631 | 0.5631 | 0.5631 | 0.5631 | 0.5631 | 0.5631 | 0.5631 | 0.5631 |  0.6172 |  0.3305 |  0.3288 |  0.3257 |  0.3225 |  0.3203 |  0.3176 |  0.3152 |  0.3142 |  0.3123 |  0.3103 |  0.3079 | 0.3624 | 0.3512 | 0.3452 | 0.3425 | 0.3405 | 0.3367 | 0.3335 | 1345.3871 |  13.5025\n",
            "\n"
          ]
        },
        {
          "name": "stderr",
          "output_type": "stream",
          "text": [
            "\n"
          ]
        }
      ],
      "source": [
        "cornac.Experiment(eval_method=ratio_split,\n",
        "                  models=[ngcf],\n",
        "                  metrics=[NDCG, NDCG_3, NDCG_4, NDCG_5, NDCG_6, NDCG_7, NDCG_8, NDCG_9, NDCG_10, NDCG_11, NDCG_12, NDCG_13, NDCG_14, NDCG_15, NDCG_16, NDCG_17, NDCG_18, NDCG_19, NDCG_20, MAE,MAE_3, MAE_4, MAE_5, MAE_6, MAE_7, MAE_8, MAE_9, MAE_10, MAE_11, MAE_12, MAE_13, MAE_14, MAE_15, MAE_16, MAE_17, MAE_18, MAE_19, MAE_20, MSE, MSE_3, MSE_4, MSE_5, MSE_6, MSE_7, MSE_8, MSE_9, MSE_10, MSE_11, MSE_12, MSE_13, MSE_14, MSE_15, MSE_16, MSE_17, MSE_18, MSE_19, MSE_20, RMSE, RMSE_3, RMSE_4, RMSE_5, RMSE_6, RMSE_7, RMSE_8, RMSE_9, RMSE_10, RMSE_11, RMSE_12, RMSE_13, RMSE_14, RMSE_15, RMSE_16, RMSE_17, RMSE_18, RMSE_19, RMSE_20, R2, R2_3, R2_4, R2_5, R2_6, R2_7, R2_8, R2_9, R2_10, R2_11, R2_12, R2_13, R2_14, R2_15, R2_16, R2_17, R2_18, R2_19, R2_20, MRR, MRR_3, MRR_4, MRR_5, MRR_6, MRR_7, MRR_8, MRR_9, MRR_10, MRR_11, MRR_12, MRR_13, MRR_14, MRR_15, MRR_16, MRR_17, MRR_18, MRR_19, MRR_20, FCP, FCP_3, FCP_4, FCP_5, FCP_6, FCP_7, FCP_8, FCP_9, FCP_10, FCP_11, FCP_12, FCP_13, FCP_14, FCP_15, FCP_16, FCP_17, FCP_18, FCP_19, FCP_20],\n",
        "                  ).run()"
      ]
    },
    {
      "cell_type": "markdown",
      "metadata": {},
      "source": [
        "Results after running the experiment:\n",
        "\n",
        "<pre>\n",
        "TEST:\n",
        "...\n",
        "     |    AUC | Recall@50 | Train (s) | Test (s)\n",
        "---- + ------ + --------- + --------- + --------\n",
        "BPR  | 0.8073 |    0.2301 |    0.2390 |   1.1167\n",
        "VBPR | 0.8219 |    0.2519 |  113.8606 |   1.0624\n",
        "</pre>"
      ]
    }
  ],
  "metadata": {
    "colab": {
      "provenance": []
    },
    "kernelspec": {
      "display_name": "Python 3",
      "language": "python",
      "name": "python3"
    },
    "language_info": {
      "codemirror_mode": {
        "name": "ipython",
        "version": 3
      },
      "file_extension": ".py",
      "mimetype": "text/x-python",
      "name": "python",
      "nbconvert_exporter": "python",
      "pygments_lexer": "ipython3",
      "version": "3.10.13"
    },
    "widgets": {
      "application/vnd.jupyter.widget-state+json": {
        "048ba12134df4cfbb82df4b52a07ba5b": {
          "model_module": "@jupyter-widgets/base",
          "model_module_version": "1.2.0",
          "model_name": "LayoutModel",
          "state": {
            "_model_module": "@jupyter-widgets/base",
            "_model_module_version": "1.2.0",
            "_model_name": "LayoutModel",
            "_view_count": null,
            "_view_module": "@jupyter-widgets/base",
            "_view_module_version": "1.2.0",
            "_view_name": "LayoutView",
            "align_content": null,
            "align_items": null,
            "align_self": null,
            "border": null,
            "bottom": null,
            "display": null,
            "flex": null,
            "flex_flow": null,
            "grid_area": null,
            "grid_auto_columns": null,
            "grid_auto_flow": null,
            "grid_auto_rows": null,
            "grid_column": null,
            "grid_gap": null,
            "grid_row": null,
            "grid_template_areas": null,
            "grid_template_columns": null,
            "grid_template_rows": null,
            "height": null,
            "justify_content": null,
            "justify_items": null,
            "left": null,
            "margin": null,
            "max_height": null,
            "max_width": null,
            "min_height": null,
            "min_width": null,
            "object_fit": null,
            "object_position": null,
            "order": null,
            "overflow": null,
            "overflow_x": null,
            "overflow_y": null,
            "padding": null,
            "right": null,
            "top": null,
            "visibility": null,
            "width": null
          }
        },
        "3a5909695cde486792ad52fdd1503a14": {
          "model_module": "@jupyter-widgets/controls",
          "model_module_version": "1.5.0",
          "model_name": "DescriptionStyleModel",
          "state": {
            "_model_module": "@jupyter-widgets/controls",
            "_model_module_version": "1.5.0",
            "_model_name": "DescriptionStyleModel",
            "_view_count": null,
            "_view_module": "@jupyter-widgets/base",
            "_view_module_version": "1.2.0",
            "_view_name": "StyleView",
            "description_width": ""
          }
        },
        "3d1b284a39d64ddaafbb2557fedc45f1": {
          "model_module": "@jupyter-widgets/base",
          "model_module_version": "1.2.0",
          "model_name": "LayoutModel",
          "state": {
            "_model_module": "@jupyter-widgets/base",
            "_model_module_version": "1.2.0",
            "_model_name": "LayoutModel",
            "_view_count": null,
            "_view_module": "@jupyter-widgets/base",
            "_view_module_version": "1.2.0",
            "_view_name": "LayoutView",
            "align_content": null,
            "align_items": null,
            "align_self": null,
            "border": null,
            "bottom": null,
            "display": null,
            "flex": null,
            "flex_flow": null,
            "grid_area": null,
            "grid_auto_columns": null,
            "grid_auto_flow": null,
            "grid_auto_rows": null,
            "grid_column": null,
            "grid_gap": null,
            "grid_row": null,
            "grid_template_areas": null,
            "grid_template_columns": null,
            "grid_template_rows": null,
            "height": null,
            "justify_content": null,
            "justify_items": null,
            "left": null,
            "margin": null,
            "max_height": null,
            "max_width": null,
            "min_height": null,
            "min_width": null,
            "object_fit": null,
            "object_position": null,
            "order": null,
            "overflow": null,
            "overflow_x": null,
            "overflow_y": null,
            "padding": null,
            "right": null,
            "top": null,
            "visibility": null,
            "width": null
          }
        },
        "48681e0c063d4a86bb7fc07b4ae45184": {
          "model_module": "@jupyter-widgets/controls",
          "model_module_version": "1.5.0",
          "model_name": "DescriptionStyleModel",
          "state": {
            "_model_module": "@jupyter-widgets/controls",
            "_model_module_version": "1.5.0",
            "_model_name": "DescriptionStyleModel",
            "_view_count": null,
            "_view_module": "@jupyter-widgets/base",
            "_view_module_version": "1.2.0",
            "_view_name": "StyleView",
            "description_width": ""
          }
        },
        "4a19cdebcaf24a9c89af7f3cf6b19732": {
          "model_module": "@jupyter-widgets/base",
          "model_module_version": "1.2.0",
          "model_name": "LayoutModel",
          "state": {
            "_model_module": "@jupyter-widgets/base",
            "_model_module_version": "1.2.0",
            "_model_name": "LayoutModel",
            "_view_count": null,
            "_view_module": "@jupyter-widgets/base",
            "_view_module_version": "1.2.0",
            "_view_name": "LayoutView",
            "align_content": null,
            "align_items": null,
            "align_self": null,
            "border": null,
            "bottom": null,
            "display": null,
            "flex": null,
            "flex_flow": null,
            "grid_area": null,
            "grid_auto_columns": null,
            "grid_auto_flow": null,
            "grid_auto_rows": null,
            "grid_column": null,
            "grid_gap": null,
            "grid_row": null,
            "grid_template_areas": null,
            "grid_template_columns": null,
            "grid_template_rows": null,
            "height": null,
            "justify_content": null,
            "justify_items": null,
            "left": null,
            "margin": null,
            "max_height": null,
            "max_width": null,
            "min_height": null,
            "min_width": null,
            "object_fit": null,
            "object_position": null,
            "order": null,
            "overflow": null,
            "overflow_x": null,
            "overflow_y": null,
            "padding": null,
            "right": null,
            "top": null,
            "visibility": null,
            "width": "20px"
          }
        },
        "7b27ea29f03d470cb19dc98458673734": {
          "model_module": "@jupyter-widgets/controls",
          "model_module_version": "1.5.0",
          "model_name": "HTMLModel",
          "state": {
            "_dom_classes": [],
            "_model_module": "@jupyter-widgets/controls",
            "_model_module_version": "1.5.0",
            "_model_name": "HTMLModel",
            "_view_count": null,
            "_view_module": "@jupyter-widgets/controls",
            "_view_module_version": "1.5.0",
            "_view_name": "HTMLView",
            "description": "",
            "description_tooltip": null,
            "layout": "IPY_MODEL_ea036ad38dd54416b6055b8ff61b7ebd",
            "placeholder": "​",
            "style": "IPY_MODEL_3a5909695cde486792ad52fdd1503a14",
            "value": ""
          }
        },
        "a34e1d3a5dda478c980915edde7d36b0": {
          "model_module": "@jupyter-widgets/controls",
          "model_module_version": "1.5.0",
          "model_name": "ProgressStyleModel",
          "state": {
            "_model_module": "@jupyter-widgets/controls",
            "_model_module_version": "1.5.0",
            "_model_name": "ProgressStyleModel",
            "_view_count": null,
            "_view_module": "@jupyter-widgets/base",
            "_view_module_version": "1.2.0",
            "_view_name": "StyleView",
            "bar_color": null,
            "description_width": ""
          }
        },
        "ce0032341d9247f480171b16ef7dd58f": {
          "model_module": "@jupyter-widgets/controls",
          "model_module_version": "1.5.0",
          "model_name": "HBoxModel",
          "state": {
            "_dom_classes": [],
            "_model_module": "@jupyter-widgets/controls",
            "_model_module_version": "1.5.0",
            "_model_name": "HBoxModel",
            "_view_count": null,
            "_view_module": "@jupyter-widgets/controls",
            "_view_module_version": "1.5.0",
            "_view_name": "HBoxView",
            "box_style": "",
            "children": [
              "IPY_MODEL_7b27ea29f03d470cb19dc98458673734",
              "IPY_MODEL_fb04ab6170e447d6b845ed6931b7f526",
              "IPY_MODEL_ef1219d2d5d847f99e59ee10a8845bd0"
            ],
            "layout": "IPY_MODEL_3d1b284a39d64ddaafbb2557fedc45f1"
          }
        },
        "ea036ad38dd54416b6055b8ff61b7ebd": {
          "model_module": "@jupyter-widgets/base",
          "model_module_version": "1.2.0",
          "model_name": "LayoutModel",
          "state": {
            "_model_module": "@jupyter-widgets/base",
            "_model_module_version": "1.2.0",
            "_model_name": "LayoutModel",
            "_view_count": null,
            "_view_module": "@jupyter-widgets/base",
            "_view_module_version": "1.2.0",
            "_view_name": "LayoutView",
            "align_content": null,
            "align_items": null,
            "align_self": null,
            "border": null,
            "bottom": null,
            "display": null,
            "flex": null,
            "flex_flow": null,
            "grid_area": null,
            "grid_auto_columns": null,
            "grid_auto_flow": null,
            "grid_auto_rows": null,
            "grid_column": null,
            "grid_gap": null,
            "grid_row": null,
            "grid_template_areas": null,
            "grid_template_columns": null,
            "grid_template_rows": null,
            "height": null,
            "justify_content": null,
            "justify_items": null,
            "left": null,
            "margin": null,
            "max_height": null,
            "max_width": null,
            "min_height": null,
            "min_width": null,
            "object_fit": null,
            "object_position": null,
            "order": null,
            "overflow": null,
            "overflow_x": null,
            "overflow_y": null,
            "padding": null,
            "right": null,
            "top": null,
            "visibility": null,
            "width": null
          }
        },
        "ef1219d2d5d847f99e59ee10a8845bd0": {
          "model_module": "@jupyter-widgets/controls",
          "model_module_version": "1.5.0",
          "model_name": "HTMLModel",
          "state": {
            "_dom_classes": [],
            "_model_module": "@jupyter-widgets/controls",
            "_model_module_version": "1.5.0",
            "_model_name": "HTMLModel",
            "_view_count": null,
            "_view_module": "@jupyter-widgets/controls",
            "_view_module_version": "1.5.0",
            "_view_name": "HTMLView",
            "description": "",
            "description_tooltip": null,
            "layout": "IPY_MODEL_048ba12134df4cfbb82df4b52a07ba5b",
            "placeholder": "​",
            "style": "IPY_MODEL_48681e0c063d4a86bb7fc07b4ae45184",
            "value": " 1.99M/? [00:00&lt;00:00, 3.41MB/s]"
          }
        },
        "fb04ab6170e447d6b845ed6931b7f526": {
          "model_module": "@jupyter-widgets/controls",
          "model_module_version": "1.5.0",
          "model_name": "FloatProgressModel",
          "state": {
            "_dom_classes": [],
            "_model_module": "@jupyter-widgets/controls",
            "_model_module_version": "1.5.0",
            "_model_name": "FloatProgressModel",
            "_view_count": null,
            "_view_module": "@jupyter-widgets/controls",
            "_view_module_version": "1.5.0",
            "_view_name": "ProgressView",
            "bar_style": "success",
            "description": "",
            "description_tooltip": null,
            "layout": "IPY_MODEL_4a19cdebcaf24a9c89af7f3cf6b19732",
            "max": 1,
            "min": 0,
            "orientation": "horizontal",
            "style": "IPY_MODEL_a34e1d3a5dda478c980915edde7d36b0",
            "value": 1
          }
        }
      }
    }
  },
  "nbformat": 4,
  "nbformat_minor": 0
}
