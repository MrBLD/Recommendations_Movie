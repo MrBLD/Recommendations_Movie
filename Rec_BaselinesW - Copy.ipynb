{
 "cells": [
  {
   "cell_type": "code",
   "execution_count": 1,
   "id": "ae2895b2",
   "metadata": {
    "execution": {
     "iopub.execute_input": "2023-05-08T13:34:08.802826Z",
     "iopub.status.busy": "2023-05-08T13:34:08.802054Z",
     "iopub.status.idle": "2023-05-08T13:34:09.881792Z",
     "shell.execute_reply": "2023-05-08T13:34:09.880586Z"
    },
    "papermill": {
     "duration": 1.088932,
     "end_time": "2023-05-08T13:34:09.884581",
     "exception": false,
     "start_time": "2023-05-08T13:34:08.795649",
     "status": "completed"
    },
    "tags": []
   },
   "outputs": [],
   "source": [
    "import numpy as np\n",
    "import pandas as pd\n",
    "from IPython.display import display, HTML \n",
    "\n",
    "import re\n",
    "import os\n",
    "from tqdm import tqdm\n",
    "from surprise import accuracy\n",
    "from surprise import Dataset\n",
    "from surprise import Reader\n",
    "from sklearn.metrics.pairwise import linear_kernel, cosine_similarity\n",
    "from surprise.model_selection import cross_validate\n",
    "from surprise.model_selection import train_test_split\n",
    "from surprise.model_selection import LeaveOneOut\n",
    "from surprise import NormalPredictor, KNNBasic, SVD, SVDpp"
   ]
  },
  {
   "cell_type": "code",
   "execution_count": 2,
   "id": "726bcbdb",
   "metadata": {
    "execution": {
     "iopub.execute_input": "2023-05-08T13:34:09.896408Z",
     "iopub.status.busy": "2023-05-08T13:34:09.896034Z",
     "iopub.status.idle": "2023-05-08T13:34:09.948475Z",
     "shell.execute_reply": "2023-05-08T13:34:09.947586Z"
    },
    "papermill": {
     "duration": 0.061587,
     "end_time": "2023-05-08T13:34:09.951226",
     "exception": false,
     "start_time": "2023-05-08T13:34:09.889639",
     "status": "completed"
    },
    "tags": []
   },
   "outputs": [],
   "source": [
    "from recommender_metrics import RecommenderMetrics\n",
    "from movie_lens_data import MovieLensData\n",
    "from evaluator import Evaluator"
   ]
  },
  {
   "cell_type": "code",
   "execution_count": 3,
   "id": "2e9b3530",
   "metadata": {
    "execution": {
     "iopub.execute_input": "2023-05-08T13:34:09.973244Z",
     "iopub.status.busy": "2023-05-08T13:34:09.972563Z",
     "iopub.status.idle": "2023-05-08T13:34:15.014459Z",
     "shell.execute_reply": "2023-05-08T13:34:15.013370Z"
    },
    "papermill": {
     "duration": 5.051371,
     "end_time": "2023-05-08T13:34:15.017375",
     "exception": false,
     "start_time": "2023-05-08T13:34:09.966004",
     "status": "completed"
    },
    "tags": []
   },
   "outputs": [],
   "source": [
    "path = \"./data/ml-100k\"\n",
    "movie_lens_data = MovieLensData(\n",
    "    users_path = os.path.join(path, \"u.user\"),\n",
    "    ratings_path = os.path.join(path, \"u.data_new0\"),\n",
    "    movies_path = os.path.join(path, \"u.item\"), \n",
    "    genre_path = os.path.join(path, \"u.genre\") \n",
    "    )\n",
    "\n",
    "evaluation_data = movie_lens_data.read_ratings_data()\n",
    "movie_data = movie_lens_data.read_movies_data()\n",
    "popularity_rankings = movie_lens_data.get_popularity_ranks()\n",
    "ratings = movie_lens_data.get_ratings()"
   ]
  },
  {
   "cell_type": "code",
   "execution_count": 4,
   "id": "ca1c7fd0",
   "metadata": {
    "execution": {
     "iopub.execute_input": "2023-05-08T13:34:15.039642Z",
     "iopub.status.busy": "2023-05-08T13:34:15.038786Z",
     "iopub.status.idle": "2023-05-08T13:34:20.612276Z",
     "shell.execute_reply": "2023-05-08T13:34:20.611039Z"
    },
    "papermill": {
     "duration": 5.582284,
     "end_time": "2023-05-08T13:34:20.614744",
     "exception": false,
     "start_time": "2023-05-08T13:34:15.032460",
     "status": "completed"
    },
    "tags": []
   },
   "outputs": [
    {
     "name": "stdout",
     "output_type": "stream",
     "text": [
      "Number of full trainset users: 935\n",
      "Number of full trainset items: 1645\n",
      "Number of trainset users: 935\n",
      "Number of trainset items: 1645\n",
      "Size of testset: 79275\n",
      "Estimating biases using als...\n",
      "Computing the cosine similarity matrix...\n",
      "Done computing similarity matrix.\n"
     ]
    }
   ],
   "source": [
    "evaluator = Evaluator(evaluation_data, popularity_rankings)"
   ]
  },
  {
   "cell_type": "markdown",
   "id": "9d15fab9",
   "metadata": {
    "papermill": {
     "duration": 0.004779,
     "end_time": "2023-05-08T13:34:20.654996",
     "exception": false,
     "start_time": "2023-05-08T13:34:20.650217",
     "status": "completed"
    },
    "tags": []
   },
   "source": [
    "# Add item-based collaborative filtering RecSys to evaluator\n",
    "\n",
    "\n",
    "Using the sim_options, we specify the type of similarity calculation and if the collaborative filtering is user based (in this case, No)"
   ]
  },
  {
   "cell_type": "code",
   "execution_count": 5,
   "id": "d537396c",
   "metadata": {
    "execution": {
     "iopub.execute_input": "2023-05-08T13:34:20.669092Z",
     "iopub.status.busy": "2023-05-08T13:34:20.668036Z",
     "iopub.status.idle": "2023-05-08T13:34:20.673890Z",
     "shell.execute_reply": "2023-05-08T13:34:20.672716Z"
    },
    "papermill": {
     "duration": 0.014564,
     "end_time": "2023-05-08T13:34:20.676205",
     "exception": false,
     "start_time": "2023-05-08T13:34:20.661641",
     "status": "completed"
    },
    "tags": []
   },
   "outputs": [],
   "source": [
    "item_KNN = KNNBasic(sim_options = {'name': 'cosine', 'user_based': False})\n",
    "evaluator.add_algorithm(item_KNN, \"Item KNN\")"
   ]
  },
  {
   "cell_type": "markdown",
   "id": "eaaae01f",
   "metadata": {
    "papermill": {
     "duration": 0.005064,
     "end_time": "2023-05-08T13:34:20.686327",
     "exception": false,
     "start_time": "2023-05-08T13:34:20.681263",
     "status": "completed"
    },
    "tags": []
   },
   "source": [
    "ItemKnn"
   ]
  },
  {
   "cell_type": "code",
   "execution_count": 6,
   "id": "b573a387",
   "metadata": {
    "execution": {
     "iopub.execute_input": "2023-05-08T13:34:20.698322Z",
     "iopub.status.busy": "2023-05-08T13:34:20.697908Z",
     "iopub.status.idle": "2023-05-08T13:34:20.702981Z",
     "shell.execute_reply": "2023-05-08T13:34:20.701934Z"
    },
    "papermill": {
     "duration": 0.01373,
     "end_time": "2023-05-08T13:34:20.705094",
     "exception": false,
     "start_time": "2023-05-08T13:34:20.691364",
     "status": "completed"
    },
    "tags": []
   },
   "outputs": [],
   "source": [
    "user_KNN = KNNBasic(sim_options = {'name': 'pearson', 'user_based': True})\n",
    "evaluator.add_algorithm(user_KNN, \"User KNN\")"
   ]
  },
  {
   "cell_type": "code",
   "execution_count": 7,
   "id": "faa042a0",
   "metadata": {},
   "outputs": [],
   "source": [
    "SVD = SVD()\n",
    "evaluator.add_algorithm(SVD, \"SVD\")"
   ]
  },
  {
   "cell_type": "code",
   "execution_count": 8,
   "id": "ac26786a",
   "metadata": {},
   "outputs": [],
   "source": [
    "SVD_plus_plus = SVDpp()\n",
    "evaluator.add_algorithm(SVD_plus_plus, \"SVD++\")"
   ]
  },
  {
   "cell_type": "code",
   "execution_count": 9,
   "id": "436ec316",
   "metadata": {},
   "outputs": [],
   "source": [
    "# adding random evaluator\n",
    "algo_np = NormalPredictor()\n",
    "evaluator.add_algorithm(algo_np, \"Random\")"
   ]
  },
  {
   "cell_type": "code",
   "execution_count": 10,
   "id": "2c1248d3",
   "metadata": {
    "execution": {
     "iopub.execute_input": "2023-05-08T13:34:20.726578Z",
     "iopub.status.busy": "2023-05-08T13:34:20.726155Z",
     "iopub.status.idle": "2023-05-08T13:34:34.693574Z",
     "shell.execute_reply": "2023-05-08T13:34:34.691810Z"
    },
    "papermill": {
     "duration": 13.976423,
     "end_time": "2023-05-08T13:34:34.696237",
     "exception": false,
     "start_time": "2023-05-08T13:34:20.719814",
     "status": "completed"
    },
    "tags": []
   },
   "outputs": [],
   "source": [
    "# evaluator.evaluate(do_top_n=False)"
   ]
  },
  {
   "cell_type": "code",
   "execution_count": 11,
   "id": "a2316442",
   "metadata": {
    "execution": {
     "iopub.execute_input": "2023-05-08T13:34:34.710180Z",
     "iopub.status.busy": "2023-05-08T13:34:34.709733Z",
     "iopub.status.idle": "2023-05-08T13:44:32.306945Z",
     "shell.execute_reply": "2023-05-08T13:44:32.305503Z"
    },
    "papermill": {
     "duration": 597.607854,
     "end_time": "2023-05-08T13:44:32.309954",
     "exception": false,
     "start_time": "2023-05-08T13:34:34.702100",
     "status": "completed"
    },
    "tags": []
   },
   "outputs": [
    {
     "name": "stdout",
     "output_type": "stream",
     "text": [
      "Evaluating  Item KNN ...\n",
      "Evaluating accuracy...\n",
      "Computing the cosine similarity matrix...\n",
      "Done computing similarity matrix.\n",
      "Evaluating top-N with leave-one-out...\n",
      "Computing the cosine similarity matrix...\n",
      "Done computing similarity matrix.\n",
      "Computing hit-rate and rank metrics...\n",
      "Computing recommendations with full data set...\n",
      "Computing the cosine similarity matrix...\n",
      "Done computing similarity matrix.\n",
      "Analyzing coverage, diversity, and novelty...\n",
      "Computing the cosine similarity matrix...\n",
      "Done computing similarity matrix.\n",
      "Analysis complete.\n",
      "Evaluating  User KNN ...\n",
      "Evaluating accuracy...\n",
      "Computing the pearson similarity matrix...\n",
      "Done computing similarity matrix.\n",
      "Evaluating top-N with leave-one-out...\n",
      "Computing the pearson similarity matrix...\n",
      "Done computing similarity matrix.\n",
      "Computing hit-rate and rank metrics...\n",
      "Computing recommendations with full data set...\n",
      "Computing the pearson similarity matrix...\n",
      "Done computing similarity matrix.\n",
      "Analyzing coverage, diversity, and novelty...\n",
      "Computing the cosine similarity matrix...\n",
      "Done computing similarity matrix.\n",
      "Analysis complete.\n",
      "Evaluating  SVD ...\n",
      "Evaluating accuracy...\n",
      "Evaluating top-N with leave-one-out...\n",
      "Computing hit-rate and rank metrics...\n",
      "Computing recommendations with full data set...\n",
      "Analyzing coverage, diversity, and novelty...\n",
      "Computing the cosine similarity matrix...\n",
      "Done computing similarity matrix.\n",
      "Analysis complete.\n",
      "Evaluating  SVD++ ...\n",
      "Evaluating accuracy...\n",
      "Evaluating top-N with leave-one-out...\n",
      "Computing hit-rate and rank metrics...\n",
      "Computing recommendations with full data set...\n",
      "Analyzing coverage, diversity, and novelty...\n",
      "Computing the cosine similarity matrix...\n",
      "Done computing similarity matrix.\n",
      "Analysis complete.\n",
      "Evaluating  Random ...\n",
      "Evaluating accuracy...\n",
      "Evaluating top-N with leave-one-out...\n",
      "Computing hit-rate and rank metrics...\n",
      "Computing recommendations with full data set...\n",
      "Analyzing coverage, diversity, and novelty...\n",
      "Computing the cosine similarity matrix...\n",
      "Done computing similarity matrix.\n",
      "Analysis complete.\n",
      "\n",
      "\n",
      "Algorithm  RMSE       MAE        FCP        HR         cHR        ARHR       Coverage   Diversity  Novelty   \n",
      "Item KNN   0.8899     0.6987     0.8269     0.0053     0.0053     0.0017     0.9380     0.6953     1403.2854 \n",
      "User KNN   0.7556     0.5992     0.8688     0.0000     0.0000     0.0000     0.9989     0.9204     1404.6217 \n",
      "SVD        0.6822     0.5407     0.8814     0.0374     0.0374     0.0130     0.9647     0.0276     209.6248  \n",
      "SVD++      0.7546     0.5954     0.8277     0.0289     0.0289     0.0089     0.9679     0.0286     220.7874  \n",
      "Random     1.5133     1.2163     0.4949     0.0118     0.0118     0.0044     1.0000     0.0663     395.5923  \n",
      "\n",
      "Legend:\n",
      "\n",
      "RMSE:      Root Mean Squared Error. Lower values mean better accuracy.\n",
      "MAE:       Mean Absolute Error. Lower values mean better accuracy.\n",
      "FCP:       Fraction of Concordant Pairs. Higher values mean better accuracy.\n",
      "HR:        Hit Rate; how often we are able to recommend a left-out rating. Higher is better.\n",
      "cHR:       Cumulative Hit Rate; hit rate, confined to ratings above a certain threshold. Higher is better.\n",
      "ARHR:      Average Reciprocal Hit Rank - Hit rate that takes the ranking into account. Higher is better.\n",
      "Coverage:  Ratio of users for whom recommendations above a certain threshold exist. Higher is better.\n",
      "Diversity: 1-S, where S is the average similarity score between every possible pair of recommendations\n",
      "           for a given user. Higher means more diverse.\n",
      "Novelty:   Average popularity rank of recommended items. Higher means more novel.\n"
     ]
    }
   ],
   "source": [
    "# Time consuming, uncomment optionally\n",
    "evaluator.evaluate(do_top_n=True)"
   ]
  },
  {
   "cell_type": "markdown",
   "id": "3cfe5118",
   "metadata": {
    "papermill": {
     "duration": 0.007948,
     "end_time": "2023-05-08T13:44:32.328305",
     "exception": false,
     "start_time": "2023-05-08T13:44:32.320357",
     "status": "completed"
    },
    "tags": []
   },
   "source": [
    "# Evaluate topN recommendations"
   ]
  },
  {
   "cell_type": "code",
   "execution_count": 12,
   "id": "3c48f3f5",
   "metadata": {
    "execution": {
     "iopub.execute_input": "2023-05-08T13:44:32.344975Z",
     "iopub.status.busy": "2023-05-08T13:44:32.343736Z",
     "iopub.status.idle": "2023-05-08T13:44:37.814840Z",
     "shell.execute_reply": "2023-05-08T13:44:37.813424Z"
    },
    "papermill": {
     "duration": 5.482215,
     "end_time": "2023-05-08T13:44:37.817621",
     "exception": false,
     "start_time": "2023-05-08T13:44:32.335406",
     "status": "completed"
    },
    "tags": []
   },
   "outputs": [],
   "source": [
    "# evaluator.sample_top_n_recs(movie_lens_data, test_subject=85, k=10)"
   ]
  },
  {
   "cell_type": "code",
   "execution_count": 13,
   "id": "2aa654c0",
   "metadata": {},
   "outputs": [],
   "source": [
    "# evaluator.sample_top_n_recs(movie_lens_data, test_subject=314, k=5)"
   ]
  },
  {
   "cell_type": "code",
   "execution_count": 14,
   "id": "c2200b04",
   "metadata": {},
   "outputs": [],
   "source": [
    "# print(movie_lens_data.get_movie_name(44))\n",
    "# evaluator.sample_top_n_recs(movie_lens_data, test_subject=44, k=10)"
   ]
  },
  {
   "cell_type": "code",
   "execution_count": 15,
   "id": "f26f18bd",
   "metadata": {
    "execution": {
     "iopub.execute_input": "2023-05-08T13:44:37.834817Z",
     "iopub.status.busy": "2023-05-08T13:44:37.833724Z",
     "iopub.status.idle": "2023-05-08T13:44:43.510051Z",
     "shell.execute_reply": "2023-05-08T13:44:43.508575Z"
    },
    "papermill": {
     "duration": 5.687957,
     "end_time": "2023-05-08T13:44:43.512814",
     "exception": false,
     "start_time": "2023-05-08T13:44:37.824857",
     "status": "completed"
    },
    "tags": []
   },
   "outputs": [],
   "source": [
    "# list_of_recommendations=evaluator.sample_top_n_recs(movie_lens_data, test_subject=1, k=10)\n",
    "# print(list_of_recommendations)"
   ]
  },
  {
   "cell_type": "markdown",
   "id": "c9fea3bb",
   "metadata": {},
   "source": [
    "# Evaluation"
   ]
  },
  {
   "cell_type": "code",
   "execution_count": 17,
   "id": "b306e609",
   "metadata": {},
   "outputs": [],
   "source": [
    "import numpy as np\n",
    "\n",
    "def ndcg_score(y_true, y_pred, k=None):\n",
    "    # Calculate the Normalized Discounted Cumulative Gain (NDCG) score.\n",
    "    # Convert inputs to numpy arrays\n",
    "    y_true = np.asarray(y_true)\n",
    "    y_pred = np.asarray(y_pred)\n",
    "    \n",
    "    # Ensure y_true and y_pred have the same shape\n",
    "    if y_true.shape != y_pred.shape:\n",
    "        raise ValueError(\"y_true and y_pred must have the same shape.\")\n",
    "    \n",
    "    # Sort indices of y_pred in descending order\n",
    "    sorted_indices = np.argsort(y_pred)[::-1]\n",
    "    \n",
    "    # Select top-K elements if k is specified\n",
    "    if k is not None:\n",
    "        sorted_indices = sorted_indices[:k]\n",
    "    \n",
    "    # Calculate DCG\n",
    "    dcg = np.sum((2 ** y_true[sorted_indices] - 1) / np.log2(np.arange(2, len(sorted_indices) + 2)))\n",
    "    \n",
    "    # Sort y_true in descending order and calculate ideal DCG\n",
    "    ideal_sorted_indices = np.argsort(y_true)[::-1]\n",
    "    ideal_dcg = np.sum((2 ** y_true[ideal_sorted_indices] - 1) / np.log2(np.arange(2, len(ideal_sorted_indices) + 2)))\n",
    "    \n",
    "    # Calculate NDCG\n",
    "    ndcg = dcg / ideal_dcg if ideal_dcg > 0 else 0\n",
    "    return ndcg"
   ]
  },
  {
   "cell_type": "code",
   "execution_count": 18,
   "id": "4d3e21ed",
   "metadata": {},
   "outputs": [],
   "source": [
    "def average_precision(y_true, y_pred, k=None):\n",
    "    \"\"\"\n",
    "    Calculate the Average Precision (AP) score for a single query.\n",
    "    \"\"\"\n",
    "    if k is not None:\n",
    "        y_true = y_true[:k]\n",
    "        y_pred = y_pred[:k]\n",
    "    \n",
    "    # Initialize variables\n",
    "    precision_sum = 0.0\n",
    "    true_positives = 0\n",
    "    \n",
    "    # Calculate precision at each relevant document\n",
    "    for i, (true, pred) in enumerate(zip(y_true, y_pred), 1):\n",
    "        if true:\n",
    "            true_positives += 1\n",
    "            precision = true_positives / i\n",
    "            precision_sum += precision\n",
    "    \n",
    "    # Calculate Average Precision\n",
    "    if true_positives == 0:\n",
    "        return 0.0\n",
    "    else:\n",
    "        return precision_sum / true_positives"
   ]
  },
  {
   "cell_type": "code",
   "execution_count": 19,
   "id": "4280392b",
   "metadata": {},
   "outputs": [],
   "source": [
    "\n",
    "def mean_average_precision(y_true_list, y_pred_list, k=None):\n",
    "    \"\"\"\n",
    "    Calculate the Mean Average Precision (MAP) score for a list of queries.\n",
    "    \n",
    "    Parameters:\n",
    "    y_true_list (list of arrays): List of true relevance scores for each query.\n",
    "    y_pred_list (list of arrays): List of predicted relevance scores for each query.\n",
    "    \n",
    "    Returns:\n",
    "    float: The Mean Average Precision (MAP) score.\n",
    "    \"\"\"\n",
    "    total_queries = len(y_true_list)\n",
    "    sum_ap = 0.0\n",
    "    \n",
    "    for y_true, y_pred in zip(y_true_list, y_pred_list):\n",
    "        sum_ap += average_precision(y_true, y_pred, k)\n",
    "    \n",
    "    # Calculate MAP\n",
    "    map_score = sum_ap / total_queries\n",
    "    return map_score\n",
    "\n"
   ]
  },
  {
   "cell_type": "code",
   "execution_count": 20,
   "id": "8799a5e4",
   "metadata": {},
   "outputs": [],
   "source": [
    "def mean_rating_deviation(y_true, y_pred, k=None):\n",
    "    if k is not None:\n",
    "        y_true = y_true[:k]\n",
    "        y_pred = y_pred[:k]\n",
    "    \n",
    "    # Convert inputs to numpy arrays\n",
    "    y_true = np.asarray(y_true)\n",
    "    y_pred = np.asarray(y_pred)\n",
    "    \n",
    "    # Ensure y_true and y_pred have the same shape\n",
    "    if y_true.shape != y_pred.shape:\n",
    "        raise ValueError(\"y_true and y_pred must have the same shape.\")\n",
    "    \n",
    "    # Calculate Mean Rating\n",
    "    mrd_score = np.mean(y_pred)-np.mean(y_true)\n",
    "    return mrd_score"
   ]
  },
  {
   "cell_type": "code",
   "execution_count": 56,
   "id": "5c2170ea",
   "metadata": {},
   "outputs": [],
   "source": [
    "def mean_reciprocal_rank(y_true_list, y_pred_list, k=None):\n",
    "\n",
    "    if k is not None:\n",
    "        y_true = y_true[:k]\n",
    "        y_pred = y_pred[:k]\n",
    "    \n",
    "    total_users = len(y_true_list)\n",
    "    sum_rr = 0.0\n",
    "\n",
    "    for y_true, y_pred in zip(y_true_list, y_pred_list):\n",
    "        # Sort predicted ratings and corresponding true ratings\n",
    "        sorted_items = sorted(range(len(y_pred)), key=lambda i: y_pred[i], reverse=True)\n",
    "        true_sorted = [y_true[i] for i in sorted_items]\n",
    "\n",
    "        # Find the rank of the first relevant item\n",
    "        first_relevant_rank = next((i + 1 for i, rating in enumerate(true_sorted) if rating), None)\n",
    "\n",
    "        # Calculate reciprocal rank\n",
    "        reciprocal_rank = 1 / first_relevant_rank if first_relevant_rank else 0\n",
    "\n",
    "        sum_rr += reciprocal_rank\n",
    "\n",
    "    # Calculate MRR\n",
    "    mrr_score = sum_rr / total_users\n",
    "    return mrr_score\n"
   ]
  },
  {
   "cell_type": "code",
   "execution_count": 22,
   "id": "8d67c69a",
   "metadata": {},
   "outputs": [],
   "source": [
    "def calc_score(algo_dict, userid, y_true, y_pred, k=None):\n",
    "    ndcg = ndcg_score(y_true, y_pred,k)\n",
    "    # print(\"NDCG score:\", ndcg)\n",
    "    ap=average_precision(y_true, y_pred,k)\n",
    "    # print('Average Precision', ap)\n",
    "    mrd_score = mean_rating_deviation(y_true, y_pred,k)\n",
    "    # print(\"Mean Rating (MR) deviation score:\", mrd_score)\n",
    "\n",
    "    if userid in algo_dict:\n",
    "        # If the key exists\n",
    "        algo_dict[userid].append([ndcg, ap, mrd_score])\n",
    "    else:\n",
    "        # If the key does not exist\n",
    "        algo_dict[userid]=([ndcg, ap, mrd_score])\n",
    "    return algo_dict"
   ]
  },
  {
   "cell_type": "code",
   "execution_count": 33,
   "id": "a2047e0c",
   "metadata": {},
   "outputs": [],
   "source": [
    "def dataGen(userid):\n",
    "    path=\"./Data\"\n",
    "    algo=0\n",
    "    file_path=os.path.join(path, f'selected{userid}_{algo}.csv')\n",
    "    df=pd.read_csv(file_path,)\n",
    "    os.remove(file_path)\n",
    "    \n",
    "    algo+=1\n",
    "    file_path=os.path.join(path, f'selected{userid}_{algo}.csv')\n",
    "    df_1=pd.read_csv(file_path,)\n",
    "    os.remove(file_path)\n",
    "    \n",
    "    algo+=1\n",
    "    file_path=os.path.join(path, f'selected{userid}_{algo}.csv')\n",
    "    df_2=pd.read_csv(file_path,)\n",
    "    os.remove(file_path)\n",
    "    \n",
    "    algo+=1\n",
    "    file_path=os.path.join(path, f'selected{userid}_{algo}.csv')\n",
    "    df_3=pd.read_csv(file_path,)\n",
    "    os.remove(file_path)\n",
    "    \n",
    "    algo+=1\n",
    "    file_path=os.path.join(path, f'selected{userid}_{algo}.csv')\n",
    "    df_4=pd.read_csv(file_path,)\n",
    "    os.remove(file_path)\n",
    "\n",
    "    df = df.assign(UserKNN=df_1['est'])\n",
    "    df = df.assign(SVD=df_2['est'])\n",
    "    df = df.assign(SVDpp=df_3['est'])\n",
    "    df = df.assign(Random=df_4['est'])\n",
    "    df = df.rename(columns={'est':'ItemKnn','SVDpp':'SVD++'})\n",
    "    df.to_csv(f'.//data//RecSys_{userid}.csv', index=False)"
   ]
  },
  {
   "cell_type": "code",
   "execution_count": 23,
   "id": "b9ca6591",
   "metadata": {},
   "outputs": [
    {
     "name": "stdout",
     "output_type": "stream",
     "text": [
      "       userid  itemid  rating  timestamp\n",
      "0           1      15       5  875071608\n",
      "1           1      93       5  875071484\n",
      "2           1     253       5  874965970\n",
      "3           1     223       5  876892918\n",
      "4           1     216       5  876892701\n",
      "...       ...     ...     ...        ...\n",
      "20277     943     419       2  888638920\n",
      "20278     943      97       2  888639445\n",
      "20279     943     720       1  888640048\n",
      "20280     943     941       1  888639725\n",
      "20281     943     399       1  888639886\n",
      "\n",
      "[20282 rows x 4 columns]\n"
     ]
    }
   ],
   "source": [
    "file_path = \"D:\\\\Projects\\\\P_DSc\\\\Intern-IITP\\\\NB\\\\data\\\\ml-100k\\\\u.data.test\"  # Specify the path to your TSV file\n",
    "test_data = pd.read_csv(file_path, sep='\\t')\n",
    "\n",
    "order=['userid', 'itemid', 'rating', 'timestamp']\n",
    "test_data.columns= order\n",
    "\n",
    "def sort_column_within_group(group):\n",
    "    group=group.sort_values(by='rating', ascending=False)\n",
    "    return group\n",
    "test_data = test_data.groupby('userid').apply(sort_column_within_group)\n",
    "test_data = test_data.reset_index(drop=True)\n",
    "print(test_data)"
   ]
  },
  {
   "cell_type": "code",
   "execution_count": null,
   "id": "acbddbed",
   "metadata": {},
   "outputs": [],
   "source": [
    "score_dict={\n",
    "    'ItemKNN':{},\n",
    "    'UserKNN':{},\n",
    "    'SVD':{},\n",
    "    'SVD++':{},\n",
    "    'Random':{},\n",
    "}\n",
    "score_dict_5={\n",
    "    'ItemKNN':{},\n",
    "    'UserKNN':{},\n",
    "    'SVD':{},\n",
    "    'SVD++':{},\n",
    "    'Random':{},\n",
    "    'userid':{},\n",
    "}\n",
    "\n",
    "userids = set(test_data['userid'])\n",
    "# userids1 = set(test_data['userid'])\n",
    "# intersection = set1 & set2\n",
    "\n",
    "for userid in tqdm(userids):\n",
    "    \n",
    "    list_of_recommendations=evaluator.sample_top_n_recs(movie_lens_data, test_subject=userid, k=10)\n",
    "    \n",
    "    test_i_user = test_data[test_data['userid'].isin([userid])].drop(columns=['userid', 'timestamp']).sort_values(by='itemid', ascending=True).reset_index(drop=True)\n",
    "    # test_i_user.to_csv(f'.//data//test_{userid}.csv')\n",
    "    # print(test_i_user)\n",
    "    print(f'\\n{userid}\\n')\n",
    "    score_dict\n",
    "\n",
    "    for i in range(5):\n",
    "        order=['itemid', 'act', 'est']\n",
    "        prediction_df=pd.DataFrame(list_of_recommendations[i], columns=order).sort_values(by='itemid', ascending=True).reset_index(drop=True)\n",
    "        \n",
    "        selected_items = prediction_df[prediction_df['itemid'].isin(test_i_user['itemid'])]\n",
    "        selected_items['act'] = test_i_user.loc[test_i_user['itemid'].isin(selected_items['itemid']), 'rating'].values\n",
    "        selected_items=selected_items.sort_values(by='est', ascending=False)\n",
    "        # display(selected_items)\n",
    "        selected_items.to_csv(f'.//data//selected{userid}_{i}.csv', index=False)\n",
    "\n",
    "        k=None\n",
    "        \n",
    "        y_true = selected_items['act'].values\n",
    "        y_pred = selected_items['est'].values\n",
    "        \n",
    "        algo=('ItemKNN') if (i==0) else ('UserKNN') if(i==1) else ('SVD') if (i==2) else ('SVD++') if (i==3) else ('Random') if(i==4) else ('algo')\n",
    "        algo_dict=score_dict[algo]\n",
    "        algo_dict=calc_score(algo_dict, userid, y_true, y_pred, k)\n",
    "        \n",
    "        algo_dict_5=score_dict_5[algo]\n",
    "        algo_dict_5=calc_score(algo_dict_5, userid, y_true, y_pred, k=5)\n",
    "    dataGen(userid)"
   ]
  },
  {
   "cell_type": "code",
   "execution_count": 52,
   "id": "80a1c641",
   "metadata": {},
   "outputs": [],
   "source": [
    "# generate list of (list of act and est) for each user\n",
    "def read_csv_and_append_lists(csv_file, y_true_list, y_pred_list, algo):\n",
    "    # Read CSV into DataFrame\n",
    "    df = pd.read_csv(csv_file)\n",
    "    true_list=[]\n",
    "    pred_list=[]\n",
    "    for index, row in df.iterrows():\n",
    "        true_list.append(row[df.columns[1]])\n",
    "        pred_list.append(row[df.columns[algo+2]])\n",
    "    \n",
    "    y_true_list.append(true_list)\n",
    "    y_pred_list.append(pred_list)\n",
    "    return y_true_list, y_pred_list"
   ]
  },
  {
   "cell_type": "code",
   "execution_count": 137,
   "id": "7e816671",
   "metadata": {},
   "outputs": [],
   "source": [
    "def map_mrr_eva(df, k=None):\n",
    "    map_list=['Total_map']\n",
    "    mrr_list=['Total_mrr']\n",
    "    for algo in range(5):\n",
    "        y_true_list=[]\n",
    "        y_pred_list=[]\n",
    "        for userid in tqdm(userids):\n",
    "            read_csv_and_append_lists(f'.//Data//RecSys_{userid}.csv', y_true_list, y_pred_list, algo)\n",
    "            # read recsys_{userid}.csv file in df append the y_true_list with col[0] and y_pred_list with column[algo+1]\n",
    "        map_list.append(mean_average_precision(y_true_list,y_pred_list,k))\n",
    "        mrr_list.append(mean_reciprocal_rank(y_true_list,y_pred_list,k))\n",
    "\n",
    "    # df.loc[len(df.index)] = map_list\n",
    "    print(map_list)\n",
    "    print(mrr_list)\n",
    "    # df.loc[len(df.index)] = mrr_list\n",
    "    # return df"
   ]
  },
  {
   "cell_type": "code",
   "execution_count": 138,
   "id": "11aaa027",
   "metadata": {},
   "outputs": [
    {
     "name": "stderr",
     "output_type": "stream",
     "text": [
      "100%|██████████| 935/935 [00:01<00:00, 564.75it/s]\n",
      "100%|██████████| 935/935 [00:01<00:00, 566.98it/s]\n",
      "100%|██████████| 935/935 [00:01<00:00, 548.36it/s]\n",
      "100%|██████████| 935/935 [00:01<00:00, 521.00it/s]\n",
      "100%|██████████| 935/935 [00:01<00:00, 554.59it/s]"
     ]
    },
    {
     "name": "stdout",
     "output_type": "stream",
     "text": [
      "['Total_map', 1.0, 1.0, 1.0, 1.0, 1.0]\n",
      "['Total_mrr', 1.0, 1.0, 1.0, 1.0, 1.0]\n"
     ]
    },
    {
     "name": "stderr",
     "output_type": "stream",
     "text": [
      "\n"
     ]
    },
    {
     "data": {
      "text/html": [
       "<div>\n",
       "<style scoped>\n",
       "    .dataframe tbody tr th:only-of-type {\n",
       "        vertical-align: middle;\n",
       "    }\n",
       "\n",
       "    .dataframe tbody tr th {\n",
       "        vertical-align: top;\n",
       "    }\n",
       "\n",
       "    .dataframe thead th {\n",
       "        text-align: right;\n",
       "    }\n",
       "</style>\n",
       "<table border=\"1\" class=\"dataframe\">\n",
       "  <thead>\n",
       "    <tr style=\"text-align: right;\">\n",
       "      <th></th>\n",
       "      <th>userid</th>\n",
       "      <th>ItemKNN</th>\n",
       "      <th>UserKNN</th>\n",
       "      <th>SVD</th>\n",
       "      <th>SVD++</th>\n",
       "      <th>Random</th>\n",
       "    </tr>\n",
       "  </thead>\n",
       "  <tbody>\n",
       "    <tr>\n",
       "      <th>1</th>\n",
       "      <td>1</td>\n",
       "      <td>[0.913833377284391, 1.0, 0.028218400445717773]</td>\n",
       "      <td>[0.903913221476052, 1.0, -0.03201403323678775]</td>\n",
       "      <td>[0.883227526388415, 1.0, 0.057193770345039585]</td>\n",
       "      <td>[0.8839403603743479, 1.0, -0.03217240607797667]</td>\n",
       "      <td>[0.8211583945321769, 1.0, -0.19606327524910938]</td>\n",
       "    </tr>\n",
       "    <tr>\n",
       "      <th>2</th>\n",
       "      <td>2</td>\n",
       "      <td>[0.7876114186959077, 1.0, 0.03886367782789213]</td>\n",
       "      <td>[0.9290354062872561, 1.0, -0.028514534166727667]</td>\n",
       "      <td>[0.9304093393052109, 1.0, -0.058486899471716924]</td>\n",
       "      <td>[0.968565215805775, 1.0, 0.12118752850663128]</td>\n",
       "      <td>[0.9261133219164371, 1.0, -0.08584599087559619]</td>\n",
       "    </tr>\n",
       "    <tr>\n",
       "      <th>3</th>\n",
       "      <td>3</td>\n",
       "      <td>[0.6301432645196707, 1.0, 0.12180420158433947]</td>\n",
       "      <td>[0.7507555555602629, 1.0, 0.6103075219295526]</td>\n",
       "      <td>[0.7175993560461386, 1.0, 0.10086121570028883]</td>\n",
       "      <td>[0.7390208704910455, 1.0, 0.038999739348986484]</td>\n",
       "      <td>[0.6379201487463476, 1.0, 0.6755159597811504]</td>\n",
       "    </tr>\n",
       "    <tr>\n",
       "      <th>4</th>\n",
       "      <td>4</td>\n",
       "      <td>[0.9953395684454479, 1.0, 0.0348836678265565]</td>\n",
       "      <td>[0.921310321485301, 1.0, -1.039002271660347]</td>\n",
       "      <td>[0.9639021258532504, 1.0, -0.3675108050550273]</td>\n",
       "      <td>[0.9953395684454479, 1.0, -0.2129825046617153]</td>\n",
       "      <td>[0.9073866124623576, 1.0, -0.758871402672388]</td>\n",
       "    </tr>\n",
       "    <tr>\n",
       "      <th>5</th>\n",
       "      <td>5</td>\n",
       "      <td>[0.9018010021736702, 1.0, -0.07362574691777901]</td>\n",
       "      <td>[0.9263369142592415, 1.0, 0.4140071713037332]</td>\n",
       "      <td>[0.8391843772352486, 1.0, -0.016783820969987318]</td>\n",
       "      <td>[0.9547372212458504, 1.0, 0.0029755187678688344]</td>\n",
       "      <td>[0.7313587319307674, 1.0, 0.41029879335633]</td>\n",
       "    </tr>\n",
       "    <tr>\n",
       "      <th>...</th>\n",
       "      <td>...</td>\n",
       "      <td>...</td>\n",
       "      <td>...</td>\n",
       "      <td>...</td>\n",
       "      <td>...</td>\n",
       "      <td>...</td>\n",
       "    </tr>\n",
       "    <tr>\n",
       "      <th>939</th>\n",
       "      <td>939</td>\n",
       "      <td>[0.8486582655649633, 1.0, -0.02914841451013217]</td>\n",
       "      <td>[0.9838939725958612, 1.0, -1.1690702644453963]</td>\n",
       "      <td>[0.9995843660616693, 1.0, -0.12424925976173462]</td>\n",
       "      <td>[0.980813297963661, 1.0, -0.12377103385161004]</td>\n",
       "      <td>[0.8880534438167289, 1.0, -0.4563167135369177]</td>\n",
       "    </tr>\n",
       "    <tr>\n",
       "      <th>940</th>\n",
       "      <td>940</td>\n",
       "      <td>[0.7775411711141598, 1.0, -0.015473788107752462]</td>\n",
       "      <td>[0.9029190085899952, 1.0, 0.2811384844641647]</td>\n",
       "      <td>[0.8575570345510818, 1.0, -0.011677010067402183]</td>\n",
       "      <td>[0.925158263698964, 1.0, 0.11236576964102918]</td>\n",
       "      <td>[0.853855202652721, 1.0, -0.12068238036529255]</td>\n",
       "    </tr>\n",
       "    <tr>\n",
       "      <th>941</th>\n",
       "      <td>941</td>\n",
       "      <td>[0.8862372091245206, 1.0, -0.4539089251043582]</td>\n",
       "      <td>[0.8862372091245206, 1.0, -0.5036857033870805]</td>\n",
       "      <td>[0.9544372751968143, 1.0, -0.3450241277501176]</td>\n",
       "      <td>[0.8862372091245206, 1.0, -0.4772939950143096]</td>\n",
       "      <td>[0.8862372091245206, 1.0, -0.5750858255225881]</td>\n",
       "    </tr>\n",
       "    <tr>\n",
       "      <th>942</th>\n",
       "      <td>942</td>\n",
       "      <td>[0.907470106580751, 1.0, 0.2039601319047808]</td>\n",
       "      <td>[0.9059593591032901, 1.0, -0.28666691624051666]</td>\n",
       "      <td>[0.8316012109081095, 1.0, 0.16361012648468343]</td>\n",
       "      <td>[0.8468808116865268, 1.0, 0.1717625692413689]</td>\n",
       "      <td>[0.8934390074553678, 1.0, -0.5055084170179232]</td>\n",
       "    </tr>\n",
       "    <tr>\n",
       "      <th>943</th>\n",
       "      <td>943</td>\n",
       "      <td>[0.9094299991789156, 1.0, 0.13306163686088013]</td>\n",
       "      <td>[0.9241800064046138, 1.0, 0.07153194261752871]</td>\n",
       "      <td>[0.9167142136194534, 1.0, 0.02008262585780418]</td>\n",
       "      <td>[0.9347518334472765, 1.0, 0.12882871052530165]</td>\n",
       "      <td>[0.7262042381061808, 1.0, 0.054029883223586594]</td>\n",
       "    </tr>\n",
       "  </tbody>\n",
       "</table>\n",
       "<p>935 rows × 6 columns</p>\n",
       "</div>"
      ],
      "text/plain": [
       "    userid                                           ItemKNN  \\\n",
       "1        1    [0.913833377284391, 1.0, 0.028218400445717773]   \n",
       "2        2    [0.7876114186959077, 1.0, 0.03886367782789213]   \n",
       "3        3    [0.6301432645196707, 1.0, 0.12180420158433947]   \n",
       "4        4     [0.9953395684454479, 1.0, 0.0348836678265565]   \n",
       "5        5   [0.9018010021736702, 1.0, -0.07362574691777901]   \n",
       "..     ...                                               ...   \n",
       "939    939   [0.8486582655649633, 1.0, -0.02914841451013217]   \n",
       "940    940  [0.7775411711141598, 1.0, -0.015473788107752462]   \n",
       "941    941    [0.8862372091245206, 1.0, -0.4539089251043582]   \n",
       "942    942      [0.907470106580751, 1.0, 0.2039601319047808]   \n",
       "943    943    [0.9094299991789156, 1.0, 0.13306163686088013]   \n",
       "\n",
       "                                              UserKNN  \\\n",
       "1      [0.903913221476052, 1.0, -0.03201403323678775]   \n",
       "2    [0.9290354062872561, 1.0, -0.028514534166727667]   \n",
       "3       [0.7507555555602629, 1.0, 0.6103075219295526]   \n",
       "4        [0.921310321485301, 1.0, -1.039002271660347]   \n",
       "5       [0.9263369142592415, 1.0, 0.4140071713037332]   \n",
       "..                                                ...   \n",
       "939    [0.9838939725958612, 1.0, -1.1690702644453963]   \n",
       "940     [0.9029190085899952, 1.0, 0.2811384844641647]   \n",
       "941    [0.8862372091245206, 1.0, -0.5036857033870805]   \n",
       "942   [0.9059593591032901, 1.0, -0.28666691624051666]   \n",
       "943    [0.9241800064046138, 1.0, 0.07153194261752871]   \n",
       "\n",
       "                                                  SVD  \\\n",
       "1      [0.883227526388415, 1.0, 0.057193770345039585]   \n",
       "2    [0.9304093393052109, 1.0, -0.058486899471716924]   \n",
       "3      [0.7175993560461386, 1.0, 0.10086121570028883]   \n",
       "4      [0.9639021258532504, 1.0, -0.3675108050550273]   \n",
       "5    [0.8391843772352486, 1.0, -0.016783820969987318]   \n",
       "..                                                ...   \n",
       "939   [0.9995843660616693, 1.0, -0.12424925976173462]   \n",
       "940  [0.8575570345510818, 1.0, -0.011677010067402183]   \n",
       "941    [0.9544372751968143, 1.0, -0.3450241277501176]   \n",
       "942    [0.8316012109081095, 1.0, 0.16361012648468343]   \n",
       "943    [0.9167142136194534, 1.0, 0.02008262585780418]   \n",
       "\n",
       "                                                SVD++  \\\n",
       "1     [0.8839403603743479, 1.0, -0.03217240607797667]   \n",
       "2       [0.968565215805775, 1.0, 0.12118752850663128]   \n",
       "3     [0.7390208704910455, 1.0, 0.038999739348986484]   \n",
       "4      [0.9953395684454479, 1.0, -0.2129825046617153]   \n",
       "5    [0.9547372212458504, 1.0, 0.0029755187678688344]   \n",
       "..                                                ...   \n",
       "939    [0.980813297963661, 1.0, -0.12377103385161004]   \n",
       "940     [0.925158263698964, 1.0, 0.11236576964102918]   \n",
       "941    [0.8862372091245206, 1.0, -0.4772939950143096]   \n",
       "942     [0.8468808116865268, 1.0, 0.1717625692413689]   \n",
       "943    [0.9347518334472765, 1.0, 0.12882871052530165]   \n",
       "\n",
       "                                              Random  \n",
       "1    [0.8211583945321769, 1.0, -0.19606327524910938]  \n",
       "2    [0.9261133219164371, 1.0, -0.08584599087559619]  \n",
       "3      [0.6379201487463476, 1.0, 0.6755159597811504]  \n",
       "4      [0.9073866124623576, 1.0, -0.758871402672388]  \n",
       "5        [0.7313587319307674, 1.0, 0.41029879335633]  \n",
       "..                                               ...  \n",
       "939   [0.8880534438167289, 1.0, -0.4563167135369177]  \n",
       "940   [0.853855202652721, 1.0, -0.12068238036529255]  \n",
       "941   [0.8862372091245206, 1.0, -0.5750858255225881]  \n",
       "942   [0.8934390074553678, 1.0, -0.5055084170179232]  \n",
       "943  [0.7262042381061808, 1.0, 0.054029883223586594]  \n",
       "\n",
       "[935 rows x 6 columns]"
      ]
     },
     "metadata": {},
     "output_type": "display_data"
    }
   ],
   "source": [
    "# map_list=['tat',1,1,1,1,1]\n",
    "# map_df=pd.DataFrame([[1,1,1,1,1,1]],columns=['userid', 'ItemKNN', 'UserKNN', 'SVD', 'SVD++', 'Random'])\n",
    "# map_df.loc[len(df.index)] = map_list\n",
    "score_df = map_mrr_eva(score_df, k=None)\n",
    "display(score_df)"
   ]
  },
  {
   "cell_type": "code",
   "execution_count": null,
   "id": "d689f8e6",
   "metadata": {},
   "outputs": [],
   "source": [
    "print(score_dict)\n",
    "score_df=pd.DataFrame(score_dict)\n",
    "score_df.insert(0, 'userid', score_df.index)\n",
    "# map_df = map_mrr_eva(score_df, k)\n",
    "score_df.to_csv(f'.//data//score.csv', index=False)\n",
    "\n",
    "score_df_5=pd.DataFrame(score_dict_5)\n",
    "score_df_5.drop(columns=['userid'],axis=1,inplace=True)\n",
    "score_df_5.insert(0, 'userid', score_df_5.index)\n",
    "# score_df_5 = map_mrr_eva(score_df, k=5)\n",
    "score_df_5.to_csv(f'.//data//score_5.csv', index=False)"
   ]
  }
 ],
 "metadata": {
  "kernelspec": {
   "display_name": "Python 3",
   "language": "python",
   "name": "python3"
  },
  "language_info": {
   "codemirror_mode": {
    "name": "ipython",
    "version": 3
   },
   "file_extension": ".py",
   "mimetype": "text/x-python",
   "name": "python",
   "nbconvert_exporter": "python",
   "pygments_lexer": "ipython3",
   "version": "3.10.13"
  },
  "papermill": {
   "default_parameters": {},
   "duration": 652.611605,
   "end_time": "2023-05-08T13:44:50.325795",
   "environment_variables": {},
   "exception": null,
   "input_path": "__notebook__.ipynb",
   "output_path": "__notebook__.ipynb",
   "parameters": {},
   "start_time": "2023-05-08T13:33:57.714190",
   "version": "2.4.0"
  }
 },
 "nbformat": 4,
 "nbformat_minor": 5
}
